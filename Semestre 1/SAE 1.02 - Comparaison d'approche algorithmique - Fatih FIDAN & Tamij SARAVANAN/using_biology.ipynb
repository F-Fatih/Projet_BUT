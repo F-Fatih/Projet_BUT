{
 "cells": [
  {
   "cell_type": "markdown",
   "id": "a023b3ed",
   "metadata": {},
   "source": [
    "# Notebook de présentation de la SAE S01.02"
   ]
  },
  {
   "cell_type": "markdown",
   "id": "47840237",
   "metadata": {},
   "source": [
    "## Binôme \n",
    "\n",
    "* Fidan Fatih\n",
    "* Saravanan Tamij"
   ]
  },
  {
   "cell_type": "markdown",
   "id": "149c4ecc",
   "metadata": {},
   "source": [
    "# SAÉ S1.02 : ARN et protéines"
   ]
  },
  {
   "cell_type": "markdown",
   "id": "84c5ba72",
   "metadata": {},
   "source": [
    "<p>Ce document correspond au sujet de la SAÉ S1.02 de l'année universitaire 2021/2022. Ce travail est à faire par binôme en autonomie. La SAÉ est découpée en deux parties. <strong>La première partie devra être rendue avant le 5 décembre et la deuxième partie avant le 16 janvier.</strong><p/>\n",
    "\n",
    "<p><strong>Attention :</strong> L'évaluation de cette SAÉ se fera notamment durant les contrôles de R101. L'évaluation de la partie 1 de la SAÉ se fera en partie lors du troisième contrôle de  la ressource R101 (prévu le 8 décembre 2021). L'évaluation de la partie 2 se fera en partie lors du dernier contrôle de R101 (prévu le 21 janvier 2022). Pour les contrôles, il faut connaître le sujet et l\n",
    "e code (les structures de données utilisées et les diffférentes fonctions).</p>"
   ]
  },
  {
   "cell_type": "markdown",
   "id": "368a1e63",
   "metadata": {},
   "source": [
    "## Sujet\n",
    "\n",
    "<hr/>\n",
    "\n",
    "### Partie 1\n",
    "<p> Les exercices s'appuient sur la notion d'<a href=\"https://fr.wikipedia.org/wiki/Acide_d%C3%A9soxyribonucl%C3%A9ique\">ADN</a>/<a href=\"https://fr.wikipedia.org/wiki/Acide_ribonucl%C3%A9ique\">ARN</a>. On supposera dans l'ensemble des exercices que l'ADN est codé sous la forme d'une chaîne de caractères contenant uniquement les lettres majuscules <code>A</code>, <code>T</code>, <code>G</code>, <code>C</code> correspondant aux différentes bases (adénine, cytosine, guanine ou thymine).\n",
    "    \n",
    "L'ARN sera codé sous la forme d'une chaîne de caractères contenant uniquement les lettres majuscules <code>A</code>, <code>U</code>, <code>G</code>, <code>C</code>.</p>"
   ]
  },
  {
   "cell_type": "markdown",
   "id": "e02159c8",
   "metadata": {},
   "source": [
    "#### Question 1\n",
    "<p>Définir la fonction <code>est_base</code> prenant en paramètre un caractère et retournant <code>True</code> si ce caractère correspond à une base de l'ADN (est un des caractères <code>A</code>, <code>T</code>, <code>G</code>, <code>C</code>), et <code>False</code> sinon.</p>\n",
    "\n",
    "<p>À titre d'exemple, l'appel de la fonction <code>est_base</code> avec la valeur <code>\"A\"</code> doit retourner <code>True</code> alors que l'appel avec la valeur <code>\"z\"</code> doit retourner <code>False</code>.</p>"
   ]
  },
  {
   "cell_type": "code",
   "execution_count": null,
   "id": "d0370e53",
   "metadata": {},
   "outputs": [],
   "source": [
    "import biology as bio\n",
    "\n",
    "def est_base(c):\n",
    "    if c!=\"A\" and c!=\"T\" and c!=\"G\" and c!=\"C\":\n",
    "        return False\n",
    "    else:\n",
    "        return True\n",
    "    pass\n",
    "\n",
    "def test_est_base():\n",
    "    assert bio.est_base(\"A\")==True\n",
    "    assert bio.est_base(\"T\")==True\n",
    "    assert bio.est_base(\"G\")==True\n",
    "    assert bio.est_base(\"C\")==True\n",
    "    assert bio.est_base(\"A\")!=False\n",
    "    assert bio.est_base(\"T\")!=False\n",
    "    assert bio.est_base(\"G\")!=False\n",
    "    assert bio.est_base(\"C\")!=False\n",
    "    print(\"Test de la fonction est_base : Ok \")\n",
    "\n",
    "test_est_base()"
   ]
  },
  {
   "cell_type": "markdown",
   "id": "3ad7c65e",
   "metadata": {},
   "source": [
    "#### Question 2\n",
    "\n",
    "<p>Définir la fonction <code>est_adn</code> prenant en paramètre une chaîne de caractères et retournant <code>True</code> si la chaîne correspond à un ADN (est constituée uniquement des caractères <code>A</code>, <code>T</code>, <code>G</code>, <code>C</code>), et <code>False</code> sinon.</p>\n",
    "\n",
    "<p>À titre d'exemple, l'appel de la fonction <code>est_adn</code> avec la valeur <code>\"ATGTCAAA\"</code> doit retourner <code>True</code> alors que l'appel avec la valeur <code>\"ATBOAATG\"</code> doit retourner <code>False</code>.</p>"
   ]
  },
  {
   "cell_type": "code",
   "execution_count": null,
   "id": "3ed6692a",
   "metadata": {},
   "outputs": [],
   "source": [
    "import biology as bio\n",
    "\n",
    "def est_adn(s):\n",
    "    i=0\n",
    "    while i<len(s):\n",
    "        if bio.est_base(s[i])==False:\n",
    "            return False\n",
    "        i+=1\n",
    "    return True\n",
    "    pass\n",
    "\n",
    "def test_est_adn():\n",
    "    assert est_adn(\"ATGC\")==True\n",
    "    assert est_adn(\"AATTGGCC\")==True\n",
    "    assert est_adn(\"opcjmqldi\")!=True\n",
    "    assert est_adn(\"dqsdzavrzm\")!=True   \n",
    "    assert est_adn(\"ATGC\")!=False \n",
    "    assert est_adn(\"AATTGGCC\")!=False\n",
    "    assert est_adn(\"atgc\")==False\n",
    "    assert est_adn(\"AbfATazTGdsfGCCcs\")==False\n",
    "    print(\"Test de la fonction est_adn : Ok \")\n",
    "\n",
    "test_est_adn()"
   ]
  },
  {
   "cell_type": "markdown",
   "id": "c563bac4",
   "metadata": {},
   "source": [
    "#### Question 3\n",
    "\n",
    "<p>L'ARN est construit à partir de l'ADN en remplaçant la thymine <code>T</code> par l'uracile codé par la lettre <code>U</code>. Ainsi la transcription de la séquence ADN <code>ATTGCA</code> en ARN donne <code>AUUGCA</code>.</p>\n",
    "\n",
    "<p>Définir la fonction <code>arn</code> prenant en paramètre une séquence d'ADN et retournant la séquence ARN associée.</p>\n",
    "\n",
    "<p>À titre d'exemple, l'appel de la fonction <code>arn</code> avec la valeur <code>\"ATGTCAAA\"</code> doit retourner <code>\"AUGUCAAA\"</code>.</p>\n",
    "\n",
    "<p><strong>Attention :</strong> si la chaîne passée en paramètre ne correspond pas à de l'ADN, la fonction <code>arn</code> doit retourner la valeur <code>None</code>.</p>"
   ]
  },
  {
   "cell_type": "code",
   "execution_count": null,
   "id": "b7867e10",
   "metadata": {},
   "outputs": [],
   "source": [
    "import biology as bio\n",
    "\n",
    "def arn(adn):\n",
    "    i=0\n",
    "    while i<len(adn):\n",
    "        if bio.est_adn(adn)==True:\n",
    "            remplace = adn.replace('T','U')\n",
    "            return remplace\n",
    "        else :\n",
    "            return None\n",
    "        i+=1\n",
    "    pass\n",
    "\n",
    "def test_est_arn():\n",
    "    assert arn(\"ATTGCA\")==\"AUUGCA\"\n",
    "    assert arn(\"ATTGCA\")!=\"auugca\"\n",
    "    assert arn(\"ATTTGTCTAT\")==\"AUUUGUCUAU\"\n",
    "    assert arn(\"TTTTTT\")==\"UUUUUU\"\n",
    "    assert arn(\"azerty\")==None\n",
    "    assert arn(\"ATTazertyGCA\")==None\n",
    "    assert arn(\"attgca\")==None\n",
    "    assert arn(\"123456\")==None\n",
    "    print(\"Test de la fonction est_arn : Ok\")\n",
    "\n",
    "test_est_arn()"
   ]
  },
  {
   "cell_type": "markdown",
   "id": "0343c40e",
   "metadata": {},
   "source": [
    "#### Question 4\n",
    "\n",
    "<p>Un codon est une séquence de trois bases sur un ARN (messager) spécifiant l'un des 22 acides aminés protéinogènes dont la succession sur l'ARN détermine la structure primaire de la protéine à synthétiser <em>(définition issue de Wikipedia)</em>.</p>\n",
    "\n",
    "<p>Définir la fonction <code>arn_to_codons</code> prenant en paramètre une chaîne de caractères correspondant à de l'ARN et découpant cet ARN en codons. La fonction doit retourner un tableau contenant la liste des codons.\n",
    "Par exemple, l'appel de la fonction <code>arn_to_codons</code> avec l'ARN <code>\"CGUUAGGGG\"</code> doit retourner le tableau <code>[\"CGU\", \"UAG\", \"GGG\"]</code>.</p>\n",
    "\n",
    "<p><strong>Remarque :</strong> Si le nombre de nucléotides dans l'ARN n'est pas un multiple de 3, les derniers sont ignorés. Par exemple, les ARN <code>\"CGUAAU\"</code> et <code>\"CGUAAUGC\"</code> donnent tous les deux la séquence de codons <code>[\"CGU\", \"AAU\"]</code>.</p>"
   ]
  },
  {
   "cell_type": "code",
   "execution_count": null,
   "id": "fd5dac9f",
   "metadata": {},
   "outputs": [],
   "source": [
    "def arn_to_codons(arn):\n",
    "    i=0\n",
    "    tab=[]\n",
    "    while i<len(arn):\n",
    "        tab.append(arn[i:3+i])\n",
    "        i+=3\n",
    "    return tab\n",
    "    pass\n",
    "\n",
    "def test_arn_to_codons():\n",
    "    assert arn_to_codons(\"CGUUAGGGG\")==[\"CGU\",\"UAG\",\"GGG\"]\n",
    "    assert arn_to_codons(\"CCCGGGUUU\")==[\"CCC\",\"GGG\",\"UUU\"]\n",
    "    assert arn_to_codons(\"CGUUAGGGGCGUUAGGGG\")==[\"CGU\",\"UAG\",\"GGG\",\"CGU\",\"UAG\",\"GGG\"]\n",
    "    assert arn_to_codons(\"CCCGGGUUUUUUGGGCCC\")==[\"CCC\",\"GGG\",\"UUU\",\"UUU\",\"GGG\",\"CCC\"]\n",
    "    assert arn_to_codons(\"CGUUAGGGG\")!=[\"CGU\",\"UUAG\",\"GGGG\"]\n",
    "    assert arn_to_codons(\"CGUUAGGGG\")!=[\"C\",\"CG\",\"CGU\",\"CGUU\",\"CGUUA\",\"CGUUAG\",\"CGUUAGG\",\"CGUUAGGG\",\"CGUUAGGGG\"]\n",
    "    assert arn_to_codons(\"CGUUAGGGG\")!=[\"CG\",\"UU\",\"AG\",\"GG\",\"G\"]\n",
    "    assert arn_to_codons(\"CGUUAGGGG\")!=[\"CGU\",\"GUU\",\"UUA\",\"UAG\",\"AGG\",\"GGG\",\"GGG\"]\n",
    "    print(\"Test de la fonction arn_to_codons : Ok\")\n",
    "    \n",
    "test_arn_to_codons()"
   ]
  },
  {
   "cell_type": "markdown",
   "id": "e4e852d3",
   "metadata": {},
   "source": [
    "#### Question 5\n",
    "\n",
    "<p> Chaque codon correspond à un acide aminé. Par exemple, le codon <code>UUU</code> correspond à l'acide aminé Phenylalanine. Plusieurs codons correspondent à un même acide aminé. Certains codons, correspondant à la fin du séquençage des acides aminés, sont appelés <em>codons stop</em>. C'est le cas du codon <code>UAA</code> par exemple.</p>\n",
    "\n",
    "<p>Le fichier <code>data/codons_aa.json</code> contient la correspondance entre codons et acides aminés au format JSON. Les codons qui ne sont pas dans le fichier sont les codons stop.</p>\n",
    "\n",
    "\n",
    "* Définir la fonction <code>load_dico_codons_aa</code> qui prend en paramètre un fichier au format JSON et retourne la structure de données chargée en mémoire à partir du JSON.\n",
    "\n",
    "\n",
    "* Définir la fonction <code>codons_stop</code> prenant en paramètre un dictionnaire dont les clés sont les codons et les valeurs les acides aminés correspondants (chaînes de caractères). La fonction retournera un tableau contenant l'ensemble des codons stop, c'est-à-dire l'ensemble des codons possibles avec les caractères <code>AUGC</code> qui ne sont pas des clés du dictionnaire.\n",
    "\n",
    "\n",
    "<strong>Remarque :</strong> Créer une variable initialisée avec les données contenues dans un fichier au format JSON se fait très facilement en python. Pour plus d'information, relire la fin du <a href=\"https://github.com/iutVilletaneuseDptInfo/M1102/blob/master/09_Dictionnnaires/cours9.ipynb\">cours 9 du module M1102</a>."
   ]
  },
  {
   "cell_type": "code",
   "execution_count": null,
   "id": "b7a1a8e1",
   "metadata": {
    "scrolled": true
   },
   "outputs": [],
   "source": [
    "from json import *\n",
    "\n",
    "def load_dico_codons_aa(filename):\n",
    "    codons_aa = open (filename,\"r\")\n",
    "    codons_aa_json = codons_aa.read()\n",
    "    dico = loads(codons_aa_json)\n",
    "    codons_aa.close()\n",
    "    return dico\n",
    "    pass\n",
    "\n",
    "def test_load_dico_codons_aa():\n",
    "    assert load_dico_codons_aa('data/codons_aa.json')=={'UUU': 'Phenylalanine', 'UUC': 'Phenylalanine', 'UUA': 'Leucine', 'UUG': 'Leucine', 'CUU': 'Leucine','CUC': 'Leucine','CUA': 'Leucine','CUG': 'Leucine','AUU': 'Isoleucine','AUC': 'Isoleucine','AUA': 'Isoleucine','AUG': 'Methionine','GUU': 'Valine','GUC': 'Valine','GUA': 'Valine','GUG': 'Valine','UCU': 'Serine','UCC': 'Serine','UCA': 'Serine','UCG': 'Serine','CCU': 'Proline','CCC': 'Proline','CCA': 'Proline','CCG': 'Proline','ACU': 'Threonine','ACC': 'Threonine','ACA': 'Threonine','ACG': 'Threonine','GCU': 'Alanine','GCC': 'Alanine','GCA': 'Alanine','GCG': 'Alanine','UAU': 'Tyrosine','UAC': 'Tyrosine','CAU': 'Histidine','CAC': 'Histidine','CAA': 'Glutamine','CAG': 'Glutamine','AAU': 'Asparagine','AAC': 'Asparagine','AAA': 'Lysine','AAG': 'Lysine','GAU': 'Aspartic acid','GAC': 'Aspartic acid','GAA': 'Glutamic acid','GAG': 'Glutamic acid','UGU': 'Cysteine','UGC': 'Cysteine','UGG': 'Tryptophan','CGU': 'Arginine','CGC': 'Arginine','CGA': 'Arginine','CGG': 'Arginine','AGU': 'Serine','AGC': 'Serine','AGA': 'Arginine','AGG': 'Arginine','GGU': 'Glycine','GGC': 'Glycine','GGA': 'Glycine','GGG': 'Glycine'}\n",
    "    assert load_dico_codons_aa('data/codons_aa.json')!={}\n",
    "    print(\"Test de la fonction load_dico_codons_aa : Ok\")\n",
    "\n",
    "test_load_dico_codons_aa()"
   ]
  },
  {
   "cell_type": "code",
   "execution_count": null,
   "id": "f46e613e",
   "metadata": {},
   "outputs": [],
   "source": [
    "from time import *\n",
    "\n",
    "def codons_stop(dico):\n",
    "    i = 0\n",
    "    codons_json=list(dico)\n",
    "    codons_found=[]\n",
    "    codons='AUGC'\n",
    "    while i<len(codons):\n",
    "        codons_stop=''\n",
    "        codons_stop+=codons[i]\n",
    "        j=0\n",
    "        while j<len(codons):\n",
    "            codons_stop=codons_stop[0]\n",
    "            codons_stop+=codons[j]\n",
    "            k=0\n",
    "            while k<len(codons):\n",
    "                if len(codons_stop)>=3:\n",
    "                    codons_stop=codons_stop[0]+codons_stop[1]\n",
    "                codons_stop+=codons[k]\n",
    "                if codons_stop not in codons_json :\n",
    "                    codons_found.append(codons_stop)\n",
    "                k+=1\n",
    "            j+=1\n",
    "        i+=1   \n",
    "    return codons_found\n",
    "\n",
    "\n",
    "def test_codons_stop():\n",
    "    assert codons_stop(load_dico_codons_aa('data/codons_aa.json'))==['UAA', 'UAG', 'UGA']\n",
    "    assert codons_stop(load_dico_codons_aa('data/codons_aa.json'))!=['UAA', 'UAG']\n",
    "    assert codons_stop(load_dico_codons_aa('data/codons_aa.json'))!=['UAA']\n",
    "    assert codons_stop(load_dico_codons_aa('data/codons_aa.json'))!=['AAU', 'GAU', 'AGU']\n",
    "    assert codons_stop(load_dico_codons_aa('data/codons_aa.json'))!=['AAA', 'GGG', 'UUU']\n",
    "    assert codons_stop(load_dico_codons_aa('data/codons_aa.json'))!=['AAA', 'GGG', 'UUU', 'CCC']\n",
    "    assert not codons_stop(load_dico_codons_aa('data/codons_aa.json'))==['aaa', 'ggg', 'uuu', 'ccc']\n",
    "    assert not codons_stop(load_dico_codons_aa('data/codons_aa.json'))==['uaa','uag','uga']\n",
    "    print(\"Test de la fonction codons_stop : Ok\")\n",
    "                       \n",
    "test_codons_stop()"
   ]
  },
  {
   "cell_type": "markdown",
   "id": "8b13a225",
   "metadata": {},
   "source": [
    "#### Question 6\n",
    "\n",
    "<p>Définir la fonction <code>codons_to_aa</code> prenant en paramètre un tableau de codons (correspondant par exemple à une valeur retournée par la fonction <code>arn_to_codons</code>) et le dictionnaire de correspondance entre codons et acides aminés. La fonction devra retourner un tableau contenant les acides aminés correspondant aux codons.</p>\n",
    "\n",
    "<p><strong>Attention :</strong> Si l'un des codons est un codon stop, alors la synthèse (traduction des codons en acides aminés) s'arrête. Par exemple, si le tableau de codons passé en paramètre est <code>[\"CGU\", \"AAU\", \"UAA\", \"GGG\", \"CGU\"]</code>, alors le tableau retourné doit être <code>[\"Arginine\", \"Asparagine\"]</code> car le codon <code>CGU</code> correspond à l'Arginine, le codon <code>AAU</code> correspond à l'asparagine et <code>UAA</code> est un codon stop.</p>"
   ]
  },
  {
   "cell_type": "code",
   "execution_count": null,
   "id": "8e93432a",
   "metadata": {},
   "outputs": [],
   "source": [
    "import biology as bio\n",
    "\n",
    "def codons_to_aa(table,dico):\n",
    "    i=0\n",
    "    t=[]\n",
    "    tfin=True\n",
    "    cd=bio.codons_stop(dico)\n",
    "    while i<len(table) and tfin==True:\n",
    "        j=0\n",
    "        while j<len(dico) and i==len(t):\n",
    "            if list(dico)[j]==table[i]:\n",
    "                t.append(list(dico.values())[j])\n",
    "            elif table[i]==cd[j%len(cd)]:\n",
    "                tfin=False\n",
    "            j+=1\n",
    "        i+=1\n",
    "    return t\n",
    "    \n",
    "def test_codons_to_aa():\n",
    "    assert codons_to_aa([\"CGU\", \"AAU\", \"UAA\", \"GGG\", \"CGU\"],load_dico_codons_aa('data/codons_aa.json'))==[\"Arginine\", \"Asparagine\"]\n",
    "    assert codons_to_aa(['CGU', 'CGG', 'UUU', 'CUU'],load_dico_codons_aa('data/codons_aa.json'))==['Arginine', 'Arginine', 'Phenylalanine', 'Leucine']\n",
    "    assert codons_to_aa(['CGU', 'CGG', 'UAA', 'CUU'],load_dico_codons_aa('data/codons_aa.json'))==['Arginine', 'Arginine']\n",
    "    assert codons_to_aa(['UAA'], load_dico_codons_aa('data/codons_aa.json'))==[]\n",
    "    assert codons_to_aa([\"CGU\", \"AAU\", \"UAA\", \"GGG\", \"CGU\"],load_dico_codons_aa('data/codons_aa.json'))!=[]\n",
    "    print(\"Test de la fonction codons_to_aa : Ok\")\n",
    "\n",
    "test_codons_to_aa()"
   ]
  },
  {
   "cell_type": "markdown",
   "id": "4305d68f",
   "metadata": {},
   "source": [
    "### Partie 2\n",
    "\n",
    "<p>Le séquençage des acides aminés ne commence que lorsque le <em>codon start</em> est rencontré. Ce codon est le codon <code>AUG</code>. On appelle séquence codante l'ensemble des codons compris entre le codon start et un codon stop. Dans une séquence codante, le codon <code>AUG</code> correspond à l'acide aminé <em>Methionine</em>. Une séquence de codons peut contenir zéro, une ou plusieurs séquences codantes. Par exemple, la séquence <code>\"CGU\", \"UUU\", \"AUG\", \"CGU\", \"AUG\", \"AAU\", \"UAA\", \"AUG\", \"GGG\", \"CCC\",  \"CGU\", \"UAG\", \"GGG\"</code> contient deux séquences codantes : <code>\"CGU\", \"AUG\"</code> et <code>\"GGG\", \"CCC\", \"CGU\"</code> puisque <code>\"AAU\"</code> et <code>\"UAG\"</code> sont des codons stop.</p>\n",
    "\n",
    "<p><strong>Remarque :</strong> Une séquence codante est délimitée par le codon start et un codon stop. Si la séquence de codons ne contient aucun codon stop, alors il n'y a pas de séquence codante.</p>"
   ]
  },
  {
   "cell_type": "markdown",
   "id": "c00ba6f0",
   "metadata": {},
   "source": [
    "#### Question 1\n",
    "\n",
    "<p> Définir la fonction <code>nextIndice</code> prenant en paramètre un tableau <code>tab</code>, un indice <code>ind</code> de <code>tab</code>, et un deuxième tableau <code>elements</code>. La fonction recherche dans le tableau <code>tab</code> à partir de l'indice <code>ind</code> et retourne l'indice de la première case du tableau <code>tab</code> contenant une valeur de <code>elements</code>.</p>\n",
    "\n",
    "<p> Par exemple, l'appel de la fonction <code>nextIndice</code> avec le tableau <code>tab</code> égal à <code>[\"bonjour\", \"hello\", \"buongiorno\", \"ciao\", \"bye\"]</code>, et le tableau <code>elements</code> égal à <code>[\"hello\", \"bye\"]</code> doit retourner 1 si <code>ind</code> est inférieur ou égal à 1 lors de l'appel, et 4 sinon.</p>\n",
    "    \n",
    "<p><strong>Remarque :</strong> si aucune valeur de <code>elements</code> n'apparaît dans <code>tab</code> à partir de l'indice <code>ind</code>, la fonction doit renvoyer la valeur <code>len(tab)</code>.</p>"
   ]
  },
  {
   "cell_type": "code",
   "execution_count": null,
   "id": "75ef5512",
   "metadata": {},
   "outputs": [],
   "source": [
    "def nextIndice(tab, ind, elements):\n",
    "    while ind<len(tab):\n",
    "        j=0\n",
    "        while j<len(elements):\n",
    "            if tab[ind]==elements[j]:\n",
    "                return ind\n",
    "            j+=1\n",
    "        ind+=1\n",
    "    return ind\n",
    "\n",
    "\n",
    "def test_nextIndice():\n",
    "    assert nextIndice([\"bonjour\", \"hello\", \"buongiorno\", \"ciao\", \"bye\"],0,[\"hello\", \"bye\"])==1\n",
    "    assert nextIndice([\"bonjour\", \"hello\", \"buongiorno\", \"ciao\", \"bye\"],1,[\"hello\", \"bye\"])==1\n",
    "    assert nextIndice([\"bonjour\", \"hello\", \"buongiorno\", \"ciao\", \"bye\"],2,[\"hello\", \"bye\"])==4\n",
    "    assert nextIndice([\"bonjour\", \"hello\", \"buongiorno\", \"ciao\", \"bye\"],3,[\"hello\", \"bye\"])==4\n",
    "    assert nextIndice([\"bonjour\", \"hello\", \"buongiorno\", \"ciao\", \"bye\"],4,[\"hello\", \"bye\"])==4\n",
    "    assert not nextIndice([\"bonjour\", \"hello\", \"buongiorno\", \"ciao\", \"bye\"],0,[\"hello\", \"bye\"])==4\n",
    "    assert not nextIndice([\"bonjour\", \"hello\", \"buongiorno\", \"ciao\", \"bye\"],1,[\"hello\", \"bye\"])==4\n",
    "    assert not nextIndice([\"bonjour\", \"hello\", \"buongiorno\", \"ciao\", \"bye\"],2,[\"hello\", \"bye\"])==1\n",
    "    assert not nextIndice([\"bonjour\", \"hello\", \"buongiorno\", \"ciao\", \"bye\"],3,[\"hello\", \"bye\"])==1\n",
    "    assert not nextIndice([\"bonjour\", \"hello\", \"buongiorno\", \"ciao\", \"bye\"],4,[\"hello\", \"bye\"])==1\n",
    "    print(\"Test de la fonction nextIndice : Ok\")\n",
    "\n",
    "test_nextIndice()"
   ]
  },
  {
   "cell_type": "markdown",
   "id": "a2acce0b",
   "metadata": {},
   "source": [
    "#### Question 2\n",
    "\n",
    "<p>Définir la fonction <code>decoupe_sequence</code> prenant en paramètre trois tableaux <code>seq</code>, <code>start</code> et <code>stop</code>. La fonction doit découper le tableau <code>seq</code> en séquences et retourner un tableau contenant les différents morceaux. Un morceau dans le tableau <code>seq</code> est une partie non vide de <code>seq</code> comprise entre une valeur de <code>start</code> et une valeur de <code>stop</code>.</p>\n",
    "\n",
    "<p>L'appel de la fonction <code>decoupe_sequence</code> avec les tableaux.</p>"
   ]
  },
  {
   "cell_type": "code",
   "execution_count": 153,
   "id": "367afdbe",
   "metadata": {},
   "outputs": [],
   "source": [
    "seq = [\"val1\", \"début\", \"val2\", \"val3\", \"end\", \"val4\", \"fin\", \"begin\", \"val5\", \"fin\", \"val6\"]\n",
    "start = [\"début\", \"begin\"]\n",
    "stop = [\"fin\", \"end\"]"
   ]
  },
  {
   "cell_type": "markdown",
   "id": "484bb536",
   "metadata": {},
   "source": [
    "doit retourner"
   ]
  },
  {
   "cell_type": "code",
   "execution_count": null,
   "id": "95dc7841",
   "metadata": {},
   "outputs": [],
   "source": [
    "[\n",
    "    [\"val2\", \"val3\"],\n",
    "    [\"val5\"]\n",
    "]"
   ]
  },
  {
   "cell_type": "code",
   "execution_count": null,
   "id": "581e7fc3",
   "metadata": {},
   "outputs": [],
   "source": [
    "def decoupe_sequence(seq,start,stop):\n",
    "    t=[]\n",
    "    i=0\n",
    "    while i<len(seq):\n",
    "        p=[]\n",
    "        if seq[i] in start:\n",
    "            i+=1\n",
    "            while seq[i] not in stop and i<len(seq):\n",
    "                p.append(seq[i])\n",
    "                i+=1\n",
    "            t.append(p)\n",
    "        i+=1\n",
    "    return t\n",
    "\n",
    "\n",
    "def test_decoupe_sequence():\n",
    "    assert decoupe_sequence([\"val1\", \"début\", \"val2\", \"val3\", \"end\", \"val4\", \"fin\", \"begin\", \"val5\", \"fin\", \"val6\"], [\"début\", \"begin\"], [\"fin\", \"end\"])==[['val2', 'val3'], ['val5']]\n",
    "    assert decoupe_sequence([\"val1\", \"début\", \"val2\", \"val3\", \"end\", \"val4\", \"fin\", \"begin\", \"val5\", \"fin\"], [\"début\", \"begin\"], [\"fin\", \"end\"])==[['val2', 'val3'], ['val5']]\n",
    "    assert decoupe_sequence([\"val1\", \"début\", \"val2\", \"val3\", \"end\", \"val4\", \"fin\", \"begin\", \"fin\"], [\"début\", \"begin\"], [\"fin\", \"end\"])==[['val2', 'val3'], []]\n",
    "    assert decoupe_sequence([\"début\", \"val2\", \"val3\", \"end\", \"val4\", \"fin\", \"begin\", \"fin\"], [\"début\", \"begin\"], [\"fin\", \"end\"])==[['val2', 'val3'], []]\n",
    "    assert not decoupe_sequence([\"val1\", \"début\", \"val2\", \"val3\", \"end\", \"val4\", \"fin\", \"begin\", \"val5\", \"fin\", \"val6\"], [\"début\", \"begin\"], [\"fin\", \"end\"])==[['val2', 'val3'], []]\n",
    "    assert not decoupe_sequence([\"val1\", \"début\", \"val2\", \"val3\", \"end\", \"val4\", \"fin\", \"begin\", \"val5\", \"fin\"], [\"début\", \"begin\"], [\"fin\", \"end\"])==[['val2', 'val3'], []]\n",
    "    assert not decoupe_sequence([\"val1\", \"début\", \"val2\", \"val3\", \"end\", \"val4\", \"fin\", \"begin\", \"fin\"], [\"début\", \"begin\"], [\"fin\", \"end\"])==[['val2', 'val3'], ['val5']]\n",
    "    assert not decoupe_sequence([\"début\", \"val2\", \"val3\", \"end\", \"val4\", \"fin\", \"begin\", \"fin\"], [\"début\", \"begin\"], [\"fin\", \"end\"])==[['val2', 'val3'], ['val5']]\n",
    "    print(\"Test de la fonction decoupe_sequence : Ok\")\n",
    "    \n",
    "test_decoupe_sequence()"
   ]
  },
  {
   "cell_type": "markdown",
   "id": "ea65146d",
   "metadata": {},
   "source": [
    "#### Question 3\n",
    "\n",
    "Définir la fonction <code>codons_to_seq_codantes</code> qui prend en paramètre une séquence de codons et le dictionnaire de correspondance entre codons et acides aminés, et découpe la séquence de codons en séquences codantes. Les différentes séquences sont stockées dans un tableau. L'apel de la fonction <code>codons_to_seq</code> avec la séquence <code>[\"CGU\", \"UUU\", \"AUG\", \"CGU\", \"AUG\", \"AAU\", \"UAA\", \"AUG\", \"GGG\", \"CCC\",  \"CGU\", \"UAG\", \"GGG\"]</code> doit retourner le tableau :"
   ]
  },
  {
   "cell_type": "code",
   "execution_count": null,
   "id": "d9fb1525",
   "metadata": {},
   "outputs": [],
   "source": [
    "[\n",
    "    [\"CGU\", \"AUG\", \"AAU\"],\n",
    "    [\"GGG\", \"CCC\", \"CGU\"]\n",
    "]"
   ]
  },
  {
   "cell_type": "markdown",
   "id": "33fe4d99",
   "metadata": {},
   "source": [
    "<strong>Remarque :</strong> la fonction ne doit pas retourner de séquence codante vide."
   ]
  },
  {
   "cell_type": "code",
   "execution_count": null,
   "id": "3e406a13",
   "metadata": {},
   "outputs": [],
   "source": [
    "import biology as bio\n",
    "\n",
    "def codons_to_seq_codantes(seq, dico):\n",
    "    start=[\"AUG\"]\n",
    "    stop=bio.codons_stop(dico)\n",
    "    resultat=bio.decoupe_sequence(seq,start,stop)\n",
    "    return resultat\n",
    "        \n",
    "def test_codons_to_seq_codantes():\n",
    "    assert codons_to_seq_codantes([\"CGU\", \"UUU\", \"AUG\", \"CGU\", \"AUG\", \"AAU\", \"UAA\", \"AUG\", \"GGG\", \"CCC\",  \"CGU\", \"UAG\", \"GGG\"],load_dico_codons_aa(\"data/codons_aa.json\"))==[['CGU', 'AUG', 'AAU'], ['GGG', 'CCC', 'CGU']]\n",
    "    assert codons_to_seq_codantes([\"AUG\", \"AAU\", \"UAA\", \"AUG\", \"UAG\", \"GGG\"],load_dico_codons_aa(\"data/codons_aa.json\"))==[['AAU'], []]\n",
    "    assert not codons_to_seq_codantes([\"CGU\", \"UUU\", \"AUG\", \"CGU\", \"AUG\", \"AAU\", \"UAA\", \"AUG\", \"GGG\", \"CCC\",  \"CGU\", \"UAG\", \"GGG\"],load_dico_codons_aa(\"data/codons_aa.json\"))==[[], []]\n",
    "    assert not codons_to_seq_codantes([],load_dico_codons_aa(\"data/codons_aa.json\"))==[['CGU', 'AUG', 'AAU'], ['GGG', 'CCC', 'CGU']]\n",
    "    assert not codons_to_seq_codantes([\"AUG\", \"AAU\", \"UAA\", \"AUG\", \"UAG\", \"GGG\"],load_dico_codons_aa(\"data/codons_aa.json\"))==[[], []]\n",
    "    assert not codons_to_seq_codantes([],load_dico_codons_aa(\"data/codons_aa.json\"))==[['AAU'], []]\n",
    "    print(\"Test de la fonction codons_to_seq_codantes : Ok\")\n",
    "\n",
    "test_codons_to_seq_codantes()"
   ]
  },
  {
   "cell_type": "markdown",
   "id": "c9daf62a",
   "metadata": {},
   "source": [
    "#### Question 4\n",
    "\n",
    "<p>Définir la fonction <code>seq_codantes_to_seq_aas</code> prenant en paramètre un tableau de séquences codantes (même type que les valeurs retournées par la fonction précédente)  et le dictionnaire de correspondance entre codons et acides aminés, et retournant un tableau contenant les différentes séquences d'acides aminés codées par les différentes séquences codantes. L'appel de la fonction <code>seq_codantes_to_seq_aas</code> avec le tableau retourné dans l'exemple de la fonction <code>codons_to_seq</code> doit retourner le tableau :</p>"
   ]
  },
  {
   "cell_type": "code",
   "execution_count": null,
   "id": "434d58f7",
   "metadata": {},
   "outputs": [],
   "source": [
    "[\n",
    "    [\"Arginine\", \"Methionine\", \"Asparagine\"],\n",
    "    [\"Glycine\", \"Proline\", \"Arginine\"]\n",
    "]"
   ]
  },
  {
   "cell_type": "code",
   "execution_count": null,
   "id": "06bed301",
   "metadata": {},
   "outputs": [],
   "source": [
    "import biology as bio\n",
    "\n",
    "def seq_codantes_to_seq_aas(tab, dico):\n",
    "    i=0\n",
    "    tableau=[]\n",
    "    while i<len(tab):\n",
    "        j=0\n",
    "        while j<len(tab[i]):\n",
    "            resultat=bio.codons_to_aa(tab[i], dico)\n",
    "            j+=1\n",
    "        tableau.append(resultat)\n",
    "        i+=1\n",
    "    return tableau\n",
    "    \n",
    "def test_seq_codantes_to_seq_aas():\n",
    "    assert seq_codantes_to_seq_aas([['CGU', 'AUG', 'AAU'], ['GGG', 'CCC', 'CGU']],load_dico_codons_aa(\"data/codons_aa.json\"))==[['Arginine', 'Methionine', 'Asparagine'], ['Glycine', 'Proline', 'Arginine']]\n",
    "    assert seq_codantes_to_seq_aas([[\"AAU\"],[]],load_dico_codons_aa(\"data/codons_aa.json\"))==[['Asparagine'], ['Asparagine']]\n",
    "    assert not seq_codantes_to_seq_aas([['CGU', 'AUG', 'AAU'], ['GGG', 'CCC', 'CGU']],load_dico_codons_aa(\"data/codons_aa.json\"))==[[], []]\n",
    "    assert not seq_codantes_to_seq_aas([],load_dico_codons_aa(\"data/codons_aa.json\"))==[['Arginine', 'Methionine', 'Asparagine'], ['Glycine', 'Proline', 'Arginine']]\n",
    "    assert not seq_codantes_to_seq_aas([['AAU'], []],load_dico_codons_aa(\"data/codons_aa.json\"))==[[], []]\n",
    "    assert not seq_codantes_to_seq_aas([],load_dico_codons_aa(\"data/codons_aa.json\"))==[['Asparagine'], ['Asparagine']]\n",
    "    print(\"Test de la fonction seq_codantes_to_seq_aas : Ok\")\n",
    "\n",
    "test_seq_codantes_to_seq_aas()"
   ]
  },
  {
   "cell_type": "markdown",
   "id": "0f611070",
   "metadata": {},
   "source": [
    "#### Question 5\n",
    "\n",
    "<p>Définir la fonction <code>adn_encode_molecule</code> prenant en parmètre un brin d'ADN, le dictionnaire de correspondance entre codons et acides aminés et une molécule (séquence d'acide aminées). La fonction doit retourner <code>True</code> si l'ARN obtenu à partir de l'ADN puis découpé en codons contient une séquence codante correspondant à la molécule, c'est-à-dire si la séquence d'acide aminée correspondant à une séquence codante est la même que la molécule.</p>\n",
    "\n",
    "<p>Par exemple, l'appel de la fonction <code>adn_encode_molecule</code> avec l'ADN <code>\"CGTTTTATGCGTATGAATTAAATGGGGCCCCGTTAGGGG\"</code> et la molécule <code>[\"Glycine\", \"Proline\", \"Arginine\"]</code> doit retourner <code>True</code>.</p>"
   ]
  },
  {
   "cell_type": "code",
   "execution_count": null,
   "id": "7479c9e6",
   "metadata": {},
   "outputs": [],
   "source": [
    "import biology as bio\n",
    "\n",
    "def adn_encode_molecule(dico, adn, molecule):\n",
    "    arn_3=bio.arn_to_codons(bio.arn(adn))\n",
    "    stop=bio.codons_stop(dico)\n",
    "    \n",
    "    i=0\n",
    "    while i<len(arn_3):\n",
    "        j=0\n",
    "        k=0\n",
    "        while j<len(stop):\n",
    "            if stop[j] in arn_3[i]:\n",
    "                arn_3.remove(stop[j])\n",
    "            j+=1\n",
    "            \n",
    "        nom_codons=bio.codons_to_aa(arn_3, dico)\n",
    "        while k<len(molecule):\n",
    "            if molecule[k] in nom_codons[i]:\n",
    "                return True\n",
    "            k+=1\n",
    "        i+=1\n",
    "    return False\n",
    "\n",
    "def test_adn_encode_molecule():\n",
    "    assert adn_encode_molecule(load_dico_codons_aa('data/codons_aa.json'), \"CGTTTTATGCGTATGAATTAAATGGGGCCCCGTTAGGGG\", [\"Glycine\", \"Proline\", \"Arginine\"])==True\n",
    "    assert adn_encode_molecule(load_dico_codons_aa('data/codons_aa.json'), \"CGTTTTATGCGTATGAATTAAATGGGGCCCCGTTAGGGG\", [\"Glycine\", \"Proline\", \"Arginine\"])!=False\n",
    "    assert not adn_encode_molecule(load_dico_codons_aa('data/codons_aa.json'), \"CGTTTTATGCGTATGAATTAAATGGGGCCCCGTTAGGGG\", [\"Glycine\", \"Proline\", \"Arginine\"])!=True\n",
    "    assert not adn_encode_molecule(load_dico_codons_aa('data/codons_aa.json'), \"CGTTTTATGCGTATGAATTAAATGGGGCCCCGTTAGGGG\", [\"Glycine\", \"Proline\", \"Arginine\"])==False\n",
    "    assert adn_encode_molecule(load_dico_codons_aa('data/codons_aa.json'), \"CGTTTTATGCGTAGGGG\", [\"Glycine\", \"Proline\", \"Arginine\"])==True\n",
    "    assert adn_encode_molecule(load_dico_codons_aa('data/codons_aa.json'), \"CGTTTTATGCGTAGGGG\", [\"Glycine\", \"Proline\", \"Arginine\"])!=False\n",
    "    assert not adn_encode_molecule(load_dico_codons_aa('data/codons_aa.json'), \"CGTTTTATGCGTAGGGG\", [\"Glycine\", \"Proline\", \"Arginine\"])!=True\n",
    "    assert not adn_encode_molecule(load_dico_codons_aa('data/codons_aa.json'), \"CGTTTTATGCGTAGGGG\", [\"Glycine\", \"Proline\", \"Arginine\"])==False\n",
    "    assert adn_encode_molecule(load_dico_codons_aa('data/codons_aa.json'), \"GGG\", [\"Arginine\"])==False\n",
    "    assert adn_encode_molecule(load_dico_codons_aa('data/codons_aa.json'), \"GGG\", [\"Arginine\"])!=True\n",
    "    assert not adn_encode_molecule(load_dico_codons_aa('data/codons_aa.json'), \"GGG\", [\"Arginine\"])!=False\n",
    "    assert not adn_encode_molecule(load_dico_codons_aa('data/codons_aa.json'), \"GGG\", [\"Arginine\"])==True\n",
    "    print(\"Test de la fonction adn_encode_molecule : Ok\")\n",
    "    \n",
    "test_adn_encode_molecule()"
   ]
  },
  {
   "cell_type": "markdown",
   "id": "f5643716",
   "metadata": {},
   "source": [
    "## Développement et rendu\n",
    "\n",
    "<hr/>\n",
    "\n",
    "<p> La SAÉ devra être faite en binôme. Les fonctions doivent être implémentées dans un module appelé <code>biology</code> et les tests unitaires des fonctions dans le module <code>test_biology</code>. L'utilisation des fonctions du module devra être présentée dans un notebook appelé <code>using_biology.ipynb</code>. Le répertoire du projet devra également contenir un fichier <code>etudiants.txt</code> contenant les codes INE de deux étudiants du projet (un par ligne).\n",
    "Le répertoire devra aussi contenir un sous-répertoire <code>data</code> contenant le fichier <code>codons_aa.json</code>.</p>\n",
    "\n",
    "<p>Un squelette de rendu de projet se trouve sur le dépôt gitlab de l'université.</p>"
   ]
  },
  {
   "cell_type": "markdown",
   "id": "cea29069",
   "metadata": {},
   "source": [
    "## Évaluation\n",
    "\n",
    "<hr/>\n",
    "\n",
    "La SAÉ sera notée de la manière suivante :\n",
    "\n",
    "* Questions relatives à la SAÉ dans les contrôles : 12 points\n",
    "* Vérification automatique du code via des tests unitaires : 3 points\n",
    "* Qualité du code : 2 points\n",
    "* Qualité des tests unitaires : 2 points\n",
    "* Notebook de présentation : 1 point"
   ]
  }
 ],
 "metadata": {
  "kernelspec": {
   "display_name": "Python 3 (ipykernel)",
   "language": "python",
   "name": "python3"
  },
  "language_info": {
   "codemirror_mode": {
    "name": "ipython",
    "version": 3
   },
   "file_extension": ".py",
   "mimetype": "text/x-python",
   "name": "python",
   "nbconvert_exporter": "python",
   "pygments_lexer": "ipython3",
   "version": "3.9.2"
  }
 },
 "nbformat": 4,
 "nbformat_minor": 5
}
