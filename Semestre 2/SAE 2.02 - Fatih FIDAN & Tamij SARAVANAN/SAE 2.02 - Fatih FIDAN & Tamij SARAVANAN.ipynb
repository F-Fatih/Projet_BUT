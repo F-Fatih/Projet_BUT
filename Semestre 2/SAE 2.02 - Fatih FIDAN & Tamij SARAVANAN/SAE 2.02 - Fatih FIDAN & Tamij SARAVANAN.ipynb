{
 "cells": [
  {
   "cell_type": "markdown",
   "id": "2ba0c81f",
   "metadata": {},
   "source": [
    "<div style=\"background-color:red; border:6px solid black; border-radius:50px; padding:15px; margin-bottom:10px; text-align : center;\"> \n",
    "    <img src=\"https://user-images.githubusercontent.com/92891191/169717160-3705550c-3e04-41d0-bb50-1bae9f231659.png\" style=\"text-align : center;\">\n",
    "</div>\n",
    "\n",
    "<div style=\"text-align : center;\">Par <strong style=\"color:red;\">Fatih FIDAN</strong> & <strong style=\"color:green;\">Tamij SARAVANAN</strong> du groupe 🐉 <strong>Draco</strong> 🐉</div>"
   ]
  },
  {
   "cell_type": "markdown",
   "id": "39d6a1ae",
   "metadata": {},
   "source": [
    "<p>\n",
    "Dans le cadre de la <strong>SAE202 : Exploration algorithmique d'un problème</strong> il nous a été demandé de réaliser un projet mathématiques et informatique. Après concertation avec notre enseignant <em><a href=\"https://twitter.com/ataraxy_hebert?lang=fr\">David HEBERT</a></em> nous avons choisi de réaliser le projet <em>Marche aléatoire</em>.\n",
    "</p>\n",
    "\n",
    "<p>Voici la description qui a été donnée : </p>\n",
    "<img src='https://user-images.githubusercontent.com/92891191/174487910-b823d3b2-aae4-4123-9642-e737d7611cf0.png' style=\"position:absolute; height:25px; width:25px; right:72%; top:22%\">\n",
    "<img src='https://user-images.githubusercontent.com/92891191/174487910-b823d3b2-aae4-4123-9642-e737d7611cf0.png' style=\"position:absolute; height:25px; width:25px; right:69%; top:22%\">\n",
    "\n",
    "<ul>\n",
    "    <li><strong>Niveau de difficulté</strong> :</li>\n",
    "    <li><strong>Description</strong> : Partant de 0 un point se déplace de manière équiprobable en haut, en bas, à gauche ou à droite. Est-ce que le point reviendra à l'origine ? \n",
    "    <li><strong>Animation</strong> : Le mouvement du point dans le plan (jusqu'à ce qu'il revienne en 0 ?)</li>\n",
    "</ul>\n",
    "    \n",
    "<p>En effet l'un des objectifs du projet est, entre autres, de réaliser au moins une animation. Pour ce faire nous avons entièrement réalisé le TP dédié (disponible en ligne <a href=\"https://www.ataraxy.info/COEUR/Modules/MethodesNumeriques/TP/Graphiques%20et%20animations-CORRECTION.html\">ici</a>).\n",
    "</p>\n",
    "\n",
    "<p> Nous avons travaillé environ 50h sur ce projet et avons réparti le travail comme suit : </p>\n",
    "\n",
    "<ul>\n",
    "    <li><strong style=\"color:red;\">Fatih FIDAN (alias Mario)</strong> : Programmation de l'algorithme et création de l'animation.</li>\n",
    "    <li><strong style=\"color:green;\">Tamij SARAVANAN (alias Luigi)</strong> : Explications mathématiques de la marche aléatoire et rédacteur du compte rendu.</li>\n",
    "</ul>\n",
    "    \n",
    "<p>\n",
    "Malgré cette division, nous avons participé collégialement à l'intégralité du projet et échanger chacun avec l'autre au travers d'un canal discord privé crée spécialement pour ce travail.\n",
    "</p>"
   ]
  },
  {
   "cell_type": "markdown",
   "id": "6d9f91eb",
   "metadata": {},
   "source": [
    "<div style=\"background-color:green; border : 6px solid black; border-radius : 50px; margin : 0% 10% ; padding:10px;text-align : center;\">\n",
    "    <img src=\"https://user-images.githubusercontent.com/92891191/169717199-cbe3d26e-b023-4235-bfb0-8d5491276c3f.png\" style=\"text-align : center;\">\n",
    "</div>"
   ]
  },
  {
   "cell_type": "markdown",
   "id": "careful-michigan",
   "metadata": {},
   "source": [
    "<p>Nous avons choisi ce sujet, car cela nous a semblé pertinent de choisir un sujet sur les probabilités, nous voulions un sujet avec au minimum 2 étoiles pour avoir un peu plus de difficulté.</p> \n",
    "\n",
    "<p>De plus nous avons vite associé le thème de Mario avec le sujet afin de rendre ceci plus ludique et plus pertinent à lire et étudier.</p> \n",
    "    \n",
    "<p>Nous avons apprécié le principe de la Marche Aleatoire grâce aux explications de notre professeur <a href=\"https://twitter.com/ataraxy_hebert?lang=fr\">M.Hebert.</a></p>"
   ]
  },
  {
   "cell_type": "markdown",
   "id": "b97b2a41",
   "metadata": {},
   "source": [
    "<div style=\"background-color:green; border : 6px solid black; border-radius : 50px; margin : 0% 10% ; padding:10px; text-align : center;\">\n",
    "<img src=\"https://user-images.githubusercontent.com/92891191/169717230-729e8cd8-26ef-4b54-b336-1bd3d007397d.png\" style=\"text-align : center;\">\n",
    "</div>"
   ]
  },
  {
   "cell_type": "markdown",
   "id": "6149213c",
   "metadata": {},
   "source": [
    "\n",
    "<p>Nous avons voulu rendre ce projet un peu plus ludique en y intégrant un thème et d'autres objectifs supplémentaires afin d'obtenir un rendu sympathique et plus attrayant pour l'enseignant.</p>\n",
    "\n",
    "<p>Voici ce que nous avons décidé d'ajouter à notre projet :</p>\n",
    "<ul>\n",
    "    <li><strong>Thème :</strong> Mario</li>\n",
    "    <li><strong>Objectifs :</strong> <ul>\n",
    "        <li>Ajouter une musique de fond,</li>\n",
    "        <li>Activer/Désactiver la musique de fond,</li>\n",
    "        <li>Ajouter des éléments audio dans la barre de contrôle des animations,</li>\n",
    "        <li>Ajoutez un bouton pour pouvoir relancer la musique de fond,</li>\n",
    "        <li>Ajouter une étoile dans l'animation,</li>\n",
    "        <li>Lancer une musique spécifique lorsque le personnage passe dessus,</li>\n",
    "        <li>Crée un effet multicouleur dans l'animation comme quand Mario récupère une étoile d'invincibilité.</li>\n",
    "                                     </ul>\n",
    "    </li>\n",
    "</ul>\n",
    "\n",
    "<hr>\n",
    "\n",
    "<p>Pour mener à bien ce projet, nous avons sollicité différentes compétences acquises lors de notre première année de <a href='https://iutv.univ-paris13.fr/'>BUT - Informatique</a></p>\n",
    "<p>Voici une liste des différentes compétences utilisée :</p>\n",
    "<ul>\n",
    "    <li><a href=\"https://github.com/iutVilletaneuseDptInfo\">Python</a> (<em>afin de réaliser l'algorithme et créer l'animation</em>)</li>\n",
    "    <li><a href=\"\">Latex</a> (<em>afin de rédiger les calculs mathématiques du problème</em>)</li>\n",
    "    <li><a href=\"https://lipn.fr/~dubacq/r102/#/index\">HTML</a> (<em>afin de rédiger en 'Markdown' le notebook</em>)</li>\n",
    "    <li><a href=\"https://lipn.fr/~dubacq/r102/#/index\">CSS</a> (<em>afin d'obtenir une présentation graphique agréable à lire</em>)</li>\n",
    "    <li><a href=\"https://moodle.iutv.univ-paris13.fr/course/view.php?id=23\">JavaScript</a> (<em>afin de créer l'animation et ajouter les sources audio</em>)</li>\n",
    "</ul>\n"
   ]
  },
  {
   "cell_type": "markdown",
   "id": "appointed-oxide",
   "metadata": {},
   "source": [
    "<div style=\"background-color:green; border : 6px solid black; border-radius : 50px; margin : 0% 10% ; padding:10px; text-align : center;\">\n",
    "    <img src=\"https://user-images.githubusercontent.com/92891191/169717354-717d4299-1c62-4e0f-9ee0-d96bb9403246.png\" style=\"text-align : center;\">\n",
    "</div>\n"
   ]
  },
  {
   "cell_type": "markdown",
   "id": "republican-expense",
   "metadata": {},
   "source": [
    "<p>Voici une histoire qui raconte le principe de la Marche Aleatoire :</p>\n",
    "\n",
    "<p>Lors d'une soirée, Mario a eu une surconsommation d'étoile, il ne tient plus sur place !<br>\n",
    "Il se déplace aléatoirement au Nord, ou à l'Est, ou au Sud, ou à l'Ouest de 1 mètre à chaque pas.<br>\n",
    "Luigi raconte que le surplus d'étoiles consommées se désintègre seulement lorsque Mario revient à sa position initiale.<br>\n",
    "Cela ne dépend plus que de la chance de Mario et la probabilité qu'il revienne a son point de départ pour que ceci s'arrête au plus vite.<p/>\n",
    "\n",
    "<p>Vous pourrez retrouver plus d'informations sur le principe de la marche aléatoire sur la page Wikipédia qui se trouve <a href=\"https://fr.wikipedia.org/wiki/Marche_al%C3%A9atoire#:~:text=En%20math%C3%A9matiques%2C%20en%20%C3%A9conomie%20et,ou%20effectu%C3%A9s%20%C2%AB%20au%20hasard%20%C2%BB.\">ici</a>.</p>\n",
    "\n"
   ]
  },
  {
   "cell_type": "markdown",
   "id": "b8a24218",
   "metadata": {},
   "source": [
    "<p></p>\n",
    "<p></p>\n",
    "<p></p>\n",
    "<p></p>"
   ]
  },
  {
   "cell_type": "markdown",
   "id": "6c4dcfc0",
   "metadata": {},
   "source": [
    "<div style=\"background-color:red; border:6px solid black; border-radius:50px; padding:15px; margin-bottom:10px; text-align : center;\"> \n",
    "    <img src=\"https://user-images.githubusercontent.com/92891191/169717390-16a64ca5-082f-47bb-9bb0-2be7dfb24aca.png\" style=\"text-align : center;\">\n",
    "</div>"
   ]
  },
  {
   "cell_type": "markdown",
   "id": "7d8125f3",
   "metadata": {},
   "source": [
    "<div style=\"background-color:green; border : 6px solid black; border-radius : 50px; margin : 0% 10% ; padding:10px; text-align : center;\">\n",
    "    <img src=\"https://user-images.githubusercontent.com/92891191/169717412-f5cbcf8b-8d38-4ffa-a7c4-57e83bf49699.png\" style=\"text-align : center;\">\n",
    "</div>"
   ]
  },
  {
   "cell_type": "markdown",
   "id": "896d6025",
   "metadata": {},
   "source": [
    "<p>Afin de bien mener la suite du projet, il nous a fallu utiliser diverses bibliothèques en python, vous pourrez retrouver une liste des bibliothèques et leur fonction principale pour ce projet ci-dessous.</p>\n",
    "\n",
    "<ul>\n",
    "    <li><strong>Matplotlib (pyplot) :</strong> Afin de faire des diagrammes ?</li>\n",
    "    <li><strong>Matplotlib (Animation) :</strong> Pour crée une animation en python</li>\n",
    "    <li><strong>IPython :</strong> Afin de l'intégrer sous format HTML</li>\n",
    "    <li><strong>Random :</strong> Pour choisir des nombres aléatoires</li>\n",
    "    <li><strong>Time :</strong> Pour calculer le temps d'exécution</li>\n",
    "<ul>"
   ]
  },
  {
   "cell_type": "code",
   "execution_count": 6,
   "id": "d6025066",
   "metadata": {},
   "outputs": [],
   "source": [
    "#pip install matplotlib\n",
    "from matplotlib.pyplot import * \n",
    "import matplotlib.pyplot as plt\n",
    "from matplotlib import animation\n",
    "from IPython.display import HTML\n",
    "from random import *\n",
    "import random \n",
    "import time\n",
    "from math import *\n",
    "\n",
    "#Animation 3D\n",
    "import numpy as np\n",
    "from mpl_toolkits.mplot3d import Axes3D"
   ]
  },
  {
   "cell_type": "markdown",
   "id": "600f6293",
   "metadata": {},
   "source": [
    "<div style=\"background-color:green; border : 6px solid black; border-radius : 50px; margin : 0% 10% ; padding:10px; text-align : center;\">\n",
    "    <img src=\"https://user-images.githubusercontent.com/92891191/169717668-d09301d2-5bf8-468a-a670-74e6147341e4.png\" style=\"text-align : center;\">\n",
    "</div>"
   ]
  },
  {
   "cell_type": "markdown",
   "id": "bb119b42",
   "metadata": {},
   "source": [
    "Commençons par créer les fonctions \"NORD\", \"SUD\", \"OUEST\" et \"EST\".<br>\n",
    "Le Nord et le Sud corresponde à l'axe des ordonnées, enfin l'Ouest et l'Est correspond donc à l'axe des abscisses."
   ]
  },
  {
   "cell_type": "code",
   "execution_count": 7,
   "id": "575f584d",
   "metadata": {},
   "outputs": [],
   "source": [
    "def NORD(x, y):\n",
    "    y = y + 1\n",
    "    return x, y\n",
    "\n",
    "def SUD(x, y):\n",
    "    y = y - 1\n",
    "    return x, y\n",
    "\n",
    "def OUEST(x, y):\n",
    "    x = x - 1\n",
    "    return x, y\n",
    "\n",
    "def EST(x, y):\n",
    "    x = x + 1\n",
    "    return x, y"
   ]
  },
  {
   "cell_type": "markdown",
   "id": "e35e9b47",
   "metadata": {},
   "source": [
    "<div style=\"background-color:green; border : 6px solid black; border-radius : 50px; margin : 0% 10% ; padding:10px; text-align : center;\">\n",
    "    <img src=\"https://user-images.githubusercontent.com/92891191/169717681-eb2ca6be-6464-4890-b7d2-27003e7b56ef.png\" style=\"text-align : center;\">\n",
    "</div>"
   ]
  },
  {
   "cell_type": "markdown",
   "id": "cd2a3bc5",
   "metadata": {},
   "source": [
    "<p>Intéressons-nous au fonctionnement du cerveau de Mario, lorsqu'il est en surconsommation d'étoile.</p>\n",
    "\n",
    "<p>Dans un premier temps, il sauvegarde sa position initiale <em>(Depart)</em>, puis le rajoute dans sa mémoire <em>(Tab)</em>.<br>Dans un second temps, chaque étoile consommée choisit un nombre aléatoire <em>(Choix)</em> qui définira si Mario par au Nord, ou au Sud, ou à l'Est, ou à l'Ouest.\n",
    "<br>Pour terminer, il enregistre chacun de ces déplacements dans sa mémoire <em>(Tab)</em> et il le compare avec sa position initiale sauvegardée dans sa mémoire <em>(Tab[0])</em> afin de savoir s’il est revenu à sa position de départ ou non.</p>"
   ]
  },
  {
   "cell_type": "code",
   "execution_count": 8,
   "id": "211ff737",
   "metadata": {},
   "outputs": [],
   "source": [
    "def Marche_Aleatoire(x,y):\n",
    "    Depart = (x,y)\n",
    "    Vrai = True\n",
    "\n",
    "    Tab=[]\n",
    "    Tab.append(Depart)\n",
    "    i=0\n",
    "\n",
    "    while i<len(Tab) and Vrai == True:\n",
    "        Choix = randint(1,4)\n",
    "        \n",
    "        if Choix == 1:\n",
    "            Tab.append(NORD(Tab[i][0], Tab[i][1]))\n",
    "            i+=1\n",
    "            \n",
    "        if Choix == 2:\n",
    "            Tab.append(SUD(Tab[i][0], Tab[i][1]))\n",
    "            i+=1\n",
    "\n",
    "        if Choix == 3:\n",
    "            Tab.append(OUEST(Tab[i][0], Tab[i][1]))\n",
    "            i+=1\n",
    "\n",
    "        if Choix == 4:\n",
    "            Tab.append(EST(Tab[i][0], Tab[i][1]))\n",
    "            i+=1\n",
    "\n",
    "        if Tab[0] == Tab[i]:\n",
    "            Vrai = False\n",
    "            \n",
    "    return Tab"
   ]
  },
  {
   "cell_type": "markdown",
   "id": "26e90424",
   "metadata": {},
   "source": [
    "<div style=\"background-color:green; border : 6px solid black; border-radius : 50px; margin : 0% 10% ; padding:10px; text-align : center;\">\n",
    "    <img src='https://user-images.githubusercontent.com/92891191/169717699-12a5f91d-9dc0-471b-96f9-9ec6540638ba.png' style=\"text-align : center;\">\n",
    "</div>"
   ]
  },
  {
   "cell_type": "markdown",
   "id": "c7026e7f",
   "metadata": {},
   "source": [
    "Afin de créer un diagramme, il nous faut savoir le minimum et le maximum des axes X & Y afin de créer la limitation du diagramme"
   ]
  },
  {
   "cell_type": "code",
   "execution_count": 9,
   "id": "ed70aac5",
   "metadata": {},
   "outputs": [],
   "source": [
    "def MAXIMUM(Tab):\n",
    "    Maxi = Tab[0]\n",
    "    for i in range(len(Tab)):\n",
    "        if Tab[i] >= Maxi:\n",
    "            Maxi = Tab[i]\n",
    "    if Maxi > 0:\n",
    "        return Maxi + 10\n",
    "    elif Maxi <=0:\n",
    "        return Maxi - 10\n",
    "    \n",
    "def MINIMUM(Tab):\n",
    "    Mini = Tab[0]\n",
    "    for i in range(len(Tab)):\n",
    "        if Tab[i] <= Mini:\n",
    "            Mini = Tab[i]\n",
    "    if Mini > 0:\n",
    "        return Mini + 10\n",
    "    elif Mini <=0:\n",
    "        return Mini - 10\n"
   ]
  },
  {
   "cell_type": "markdown",
   "id": "17e3ddff",
   "metadata": {},
   "source": [
    "<div style=\"background-color:green; border : 6px solid black; border-radius : 50px; margin : 0% 10% ; padding:10px; text-align : center;\">\n",
    "    <img src='https://user-images.githubusercontent.com/92891191/169717766-8e819d95-0f9a-4f71-90e2-02325fd64fbd.png' style=\"text-align : center;\">\n",
    "</div>"
   ]
  },
  {
   "cell_type": "markdown",
   "id": "8d53b6f1",
   "metadata": {},
   "source": [
    "Maintenant que nous avons créé nos différentes fonctions, on peut maintenant voir le déplacement de Mario lorsqu'il prend beaucoup d'étoiles.\n",
    "\n",
    "Mathplotlib nous permet donc de représenter graphiquement la marche aléatoire dans différentes dimensions, il permet notamment de créer des animations."
   ]
  },
  {
   "cell_type": "markdown",
   "id": "2c8b960a",
   "metadata": {},
   "source": [
    "Utilisons nos fonctions :D"
   ]
  },
  {
   "cell_type": "code",
   "execution_count": 47,
   "id": "353b10f3",
   "metadata": {},
   "outputs": [],
   "source": [
    "Données = Marche_Aleatoire(0,0)\n",
    "x, y = zip(*Données)\n",
    "n=len(Données)\n",
    "\n",
    "Maximum_X = MAXIMUM(x)\n",
    "Minimum_X = MINIMUM(x)\n",
    "Maximum_Y = MAXIMUM(y)\n",
    "Minimum_Y = MINIMUM(y)"
   ]
  },
  {
   "cell_type": "markdown",
   "id": "b3ba1a14",
   "metadata": {},
   "source": [
    "Initialisons notre fenêtre avant de créer notre animation"
   ]
  },
  {
   "cell_type": "code",
   "execution_count": 48,
   "id": "da9ba512",
   "metadata": {},
   "outputs": [
    {
     "data": {
      "image/png": "[encoded data removed]",
      "text/plain": [
       "<Figure size 432x288 with 1 Axes>"
      ]
     },
     "metadata": {
      "needs_background": "light"
     },
     "output_type": "display_data"
    }
   ],
   "source": [
    "fig, ax = subplots()\n",
    "\n",
    "image = plt.imread('map.jpg')\n",
    "ax.imshow(image, extent=[Minimum_X, Maximum_X, Minimum_Y, Maximum_Y])\n",
    "\n",
    "Mario, = plot([], [], 'b:', lw=2, label=\"Deplacement Mario\")\n",
    "Depart = plot(x[0],y[0], \"ro\", label=\"Point de départ\")\n",
    "Etoile = plot(x[round(n/2)],y[round(n/2)], \"y*\",  markersize=15, label=\"Etoile Bonus\")\n",
    "\n",
    "plt.ylim(Minimum_Y, Maximum_Y) \n",
    "plt.xlim(Minimum_X, Maximum_X)\n",
    "\n",
    "title(\"Le monde de Mario en 2D\")\n",
    "legend()\n",
    "grid(True)"
   ]
  },
  {
   "cell_type": "markdown",
   "id": "6a694737",
   "metadata": {},
   "source": [
    "Il faut maintenant créer une fonction pour faire notre animation afin de voir en direct les déplacements faits par Mario"
   ]
  },
  {
   "cell_type": "code",
   "execution_count": 49,
   "id": "0fd93e63",
   "metadata": {},
   "outputs": [],
   "source": [
    "def MonAnimation(num_frame) : \n",
    "    Mario.set_data(x[0:num_frame], y[0:num_frame])\n",
    "    a=randint(0,5)\n",
    "    if a==0:\n",
    "        Mario.set_color('red')\n",
    "    if a==1:\n",
    "        Mario.set_color('blue')\n",
    "    if a==2:\n",
    "        Mario.set_color('green')\n",
    "        \n",
    "    print(\"\\rCalcul en cours : \"+str(round((num_frame+1)/(n+2)*100, 2))+\"%\", end='   ')\n",
    "    return ()"
   ]
  },
  {
   "cell_type": "markdown",
   "id": "1507810f",
   "metadata": {},
   "source": [
    "Tout est prêt allons voir maintenant les déplacements de Mario"
   ]
  },
  {
   "cell_type": "code",
   "execution_count": null,
   "id": "925b65c4",
   "metadata": {},
   "outputs": [],
   "source": [
    "matplotlib.rcParams['animation.embed_limit'] = 2**128\n",
    "ani = animation.FuncAnimation(fig, MonAnimation, n+2, interval=50)\n",
    "HTML(ani.to_jshtml())"
   ]
  },
  {
   "cell_type": "markdown",
   "id": "3933151f",
   "metadata": {},
   "source": [
    "Nous savons maintenant que Mario a pu arrêter sa crise de surconsommation d'étoile allons voir maintenant le __Théorème de Polya :__\n",
    "\n",
    "Une ___marche aléatoire___ est soit récurrente ou transient est ceci dépend de la dimension choisit donc \n",
    "\n",
    "on considère une marche aléatoire sur  $\\mathbb Z^d$ telle que :\n",
    "$\\mathcal P(Xi=ej)=P(Xi=-ej)=\\frac{1}{2d}$\n",
    "\n",
    "pour tout $ i \\geq 1$ et tout $ j \\in {\\{1,....,d}\\}$. Alors\n",
    "\n",
    "- la marche aléatoire est récurrente si $\\mathcal d= 1 $ ou $\\mathcal d=2$\n",
    "- la marche aléatoire est transient si $ d \\geq 3$"
   ]
  },
  {
   "cell_type": "markdown",
   "id": "087ff41d",
   "metadata": {},
   "source": [
    "<div style=\"background-color:green; border : 6px solid black; border-radius : 50px; margin : 0% 10% ; padding:10px; text-align : center;\">\n",
    "    <img src='https://user-images.githubusercontent.com/92891191/174487306-6418c162-7944-4c8a-8119-fde7f71ddb2f.png' style=\"text-align : center;\">\n",
    "</div>"
   ]
  },
  {
   "cell_type": "markdown",
   "id": "994d30dd",
   "metadata": {},
   "source": [
    "La dimension 1 revient à se déplacer seulement de gauche à droite, donc l'ouest à l'est, nous allons seulement utilisée la ligne des abscisses"
   ]
  },
  {
   "cell_type": "code",
   "execution_count": 53,
   "id": "df7d574d",
   "metadata": {},
   "outputs": [],
   "source": [
    "def Marche_Aleatoire_1D(x,y):\n",
    "    Depart = (x,y)\n",
    "    Vrai = True\n",
    "\n",
    "    Tab=[]\n",
    "    Tab.append(Depart)\n",
    "    i=0\n",
    "\n",
    "    while i<len(Tab) and Vrai == True:\n",
    "        Choix = randint(1,2)\n",
    "        \n",
    "        if Choix == 1:\n",
    "            Tab.append(OUEST(Tab[i][0], Tab[i][1]))\n",
    "            i+=1\n",
    "\n",
    "        if Choix == 2:\n",
    "            Tab.append(EST(Tab[i][0], Tab[i][1]))\n",
    "            i+=1\n",
    "\n",
    "        if Tab[0] == Tab[i]:\n",
    "            Vrai = False\n",
    "            \n",
    "    return Tab\n"
   ]
  },
  {
   "cell_type": "markdown",
   "id": "e1a2b279",
   "metadata": {},
   "source": [
    "Le programme reste le même, mais ici nous n’aurons pas besoin du maximum et minimum des ordonnées, car il restera à 0, nous allons donc le définir à la main, étant donné qu'on souhaite avoir au minimum 100 pas, on va définir notre minimum à -30 et notre maximum à 30."
   ]
  },
  {
   "cell_type": "code",
   "execution_count": 57,
   "id": "a2d597db",
   "metadata": {},
   "outputs": [
    {
     "data": {
      "image/png": "[encoded data removed]",
      "text/plain": [
       "<Figure size 432x288 with 1 Axes>"
      ]
     },
     "metadata": {
      "needs_background": "light"
     },
     "output_type": "display_data"
    }
   ],
   "source": [
    "Données=[]\n",
    "while len(Données)<100:\n",
    "    Données = Marche_Aleatoire_1D(0,0)\n",
    "\n",
    "x, y = zip(*Données)\n",
    "n=len(Données)\n",
    "\n",
    "Maximum_X = MAXIMUM(x)\n",
    "Minimum_X = MINIMUM(x)\n",
    "\n",
    "#-------------------------------------------------------------------------------------------------------------------------------\n",
    "\n",
    "fig, ax = subplots()\n",
    "\n",
    "image = plt.imread('map.jpg')\n",
    "ax.imshow(image, extent=[Minimum_X, Maximum_X, -30, 30])\n",
    "\n",
    "Mario, =plot([], [], 'b:', lw=2, label=\"Deplacement Mario\")\n",
    "Depart = plot(x[0],y[0], \"ro\", label=\"Point de départ\")\n",
    "Etoile = plot(x[round(n/2)],y[round(n/2)], \"y*\",  markersize=15, label=\"Etoile Bonus\")\n",
    "\n",
    "plt.ylim(-30, 30) \n",
    "plt.xlim(Minimum_X, Maximum_X)\n",
    "\n",
    "title(\"Le monde de Mario en 1D\")\n",
    "legend()\n",
    "grid(True)\n",
    "\n",
    "#-------------------------------------------------------------------------------------------------------------------------------\n",
    "\n",
    "def MonAnimation(num_frame) : \n",
    "    Mario.set_data(x[0:num_frame], y[0:num_frame])\n",
    "    print(\"\\rCalcul en cours : \"+str(round((num_frame+1)/(n+2)*100, 2))+\"%\", end='   ')\n",
    "    return ()\n"
   ]
  },
  {
   "cell_type": "markdown",
   "id": "3c5521e8",
   "metadata": {},
   "source": [
    "Regardons maintenant à quoi ressemble notre animation, Mario est censé se déplacer de droite à gauche ou de gauche à droite étant donné qu'il utilise seulement l'axe des abscisses."
   ]
  },
  {
   "cell_type": "code",
   "execution_count": null,
   "id": "05098f1f",
   "metadata": {},
   "outputs": [],
   "source": [
    "matplotlib.rcParams['animation.embed_limit'] = 2**128\n",
    "ani = animation.FuncAnimation(fig, MonAnimation, n+2, interval=1)\n",
    "HTML(ani.to_jshtml())"
   ]
  },
  {
   "cell_type": "markdown",
   "id": "d435c76d",
   "metadata": {},
   "source": [
    "Effectivement, on voit bien que Mario se déplace de droite à gauche dans cette situation, il même pu récupérer son étoile !"
   ]
  },
  {
   "cell_type": "markdown",
   "id": "d0c739ed",
   "metadata": {},
   "source": [
    "<div style=\"background-color:green; border : 6px solid black; border-radius : 50px; margin : 0% 10% ; padding:10px; text-align : center;\">\n",
    "    <img src='https://user-images.githubusercontent.com/92891191/174487327-1485fa2d-1047-4c5a-80c3-3324bf9184a7.png' style=\"text-align : center;\">\n",
    "</div>"
   ]
  },
  {
   "cell_type": "markdown",
   "id": "6d1ccb7f",
   "metadata": {},
   "source": [
    "Pour commencer on devoir redéfinir nos fonctions Nord, Sud, Ouest et Est et ajouter des nouvelles qui seront haut et bas. En effet on doit ajouter l'altitude qui sera l'axe Z."
   ]
  },
  {
   "cell_type": "code",
   "execution_count": 57,
   "id": "b46c9300",
   "metadata": {},
   "outputs": [],
   "source": [
    "def Nord_2(x, y, z):\n",
    "    y = y + 1\n",
    "    return x, y, z\n",
    "\n",
    "def Est_2(x, y, z):\n",
    "    x = x + 1\n",
    "    return x, y, z\n",
    "\n",
    "def Sud_2(x, y, z):\n",
    "    y = y - 1\n",
    "    return x, y, z\n",
    "\n",
    "def Ouest_2(x, y, z):\n",
    "    x = x - 1\n",
    "    return x, y, z\n",
    "\n",
    "def Haut(x, y, z):\n",
    "    z = z + 1\n",
    "    return x, y, z\n",
    "\n",
    "def Bas(x, y, z):\n",
    "    z = z - 1\n",
    "    return x, y, z"
   ]
  },
  {
   "cell_type": "markdown",
   "id": "9b642343",
   "metadata": {},
   "source": [
    "On peut maintenant reprogrammer notre algorithme de la marche aléatoire avec l'ajout de l'altitude, mais selon ___Théorème de Polya___, il est impossible de revenir à notre position de départ, car la marche aléatoire de dimensions 3 est transitent. <br>\n",
    "Nous allons lui donner un nombre de déplacements de 1000 dans la boucle, afin de voir comment il se déplace."
   ]
  },
  {
   "cell_type": "code",
   "execution_count": 58,
   "id": "606cbfd6",
   "metadata": {},
   "outputs": [],
   "source": [
    "def Marche_Aleatoire_3D(x,y,z):\n",
    "    i=0\n",
    "    tab=[]\n",
    "    \n",
    "    depart = (x,y,z)\n",
    "    tab.append(depart)\n",
    "    vrai=True\n",
    "    \n",
    "    while i<1000:\n",
    "        Choix = randint(1,6)\n",
    "        \n",
    "        if Choix == 1:\n",
    "            tab.append(Nord_2(tab[i][0], tab[i][1], tab[i][2]))\n",
    "            i+=1\n",
    "            \n",
    "        if Choix == 2:\n",
    "            tab.append(Est_2(tab[i][0], tab[i][1], tab[i][2]))\n",
    "            i+=1\n",
    "            \n",
    "        if Choix == 3:\n",
    "            tab.append(Sud_2(tab[i][0], tab[i][1], tab[i][2]))\n",
    "            i+=1\n",
    "            \n",
    "        if Choix == 4:\n",
    "            tab.append(Ouest_2(tab[i][0], tab[i][1], tab[i][2]))\n",
    "            i+=1\n",
    "        \n",
    "        if Choix == 5:\n",
    "            tab.append(Haut(tab[i][0], tab[i][1], tab[i][2]))\n",
    "            i+=1\n",
    "            \n",
    "        if Choix == 6:\n",
    "            tab.append(Bas(tab[i][0], tab[i][1], tab[i][2]))\n",
    "            i+=1\n",
    "            \n",
    "    return tab"
   ]
  },
  {
   "cell_type": "markdown",
   "id": "a9c866b3",
   "metadata": {},
   "source": [
    "Allons créer maintenant l'animation en 3D, commençons par paramétrer les bonnes options nécessaires pour avoir une bonne animation"
   ]
  },
  {
   "cell_type": "code",
   "execution_count": 59,
   "id": "969b9a42",
   "metadata": {},
   "outputs": [
    {
     "data": {
      "image/png": "[encoded data removed]",
      "text/plain": [
       "<Figure size 576x432 with 1 Axes>"
      ]
     },
     "metadata": {
      "needs_background": "light"
     },
     "output_type": "display_data"
    }
   ],
   "source": [
    "fig = plt.figure(figsize=(8,6))\n",
    "ax = plt.axes(projection='3d')\n",
    "\n",
    "data = Marche_Aleatoire_3D(0,0,0)\n",
    "x, y, z = zip(*data)\n",
    "N = len(data)\n",
    "line, = ax.plot(x,y,z)\n",
    "\n",
    "zline = 0\n",
    "xline = 0\n",
    "yline = 0\n",
    "\n",
    "ax.plot3D(xline, yline, zline)\n",
    "ax.set_title(\"Mario en 3D\",fontsize=14,fontweight=\"bold\")\n",
    "ax.set_xlabel(\"X\")\n",
    "ax.set_ylabel(\"Y\")\n",
    "ax.set_zlabel(\"Z\")\n",
    "\n",
    "def update(num, data, line):\n",
    "    line.set_data(x[0:num], y[0:num])\n",
    "    line.set_3d_properties(z[0:num])\n",
    "\n",
    "ax.view_init(30, 35)\n",
    "plt.show()"
   ]
  },
  {
   "cell_type": "markdown",
   "id": "fd56f6af",
   "metadata": {},
   "source": [
    "Nous pouvons maintenant créer cette animation en 3D, la particularité de celui-ci est qu’il enregistre l'animation sous forme de GIF sur l'ordinateur."
   ]
  },
  {
   "cell_type": "code",
   "execution_count": 60,
   "id": "0e2951e1",
   "metadata": {},
   "outputs": [],
   "source": [
    "my_writer=animation.PillowWriter(fps=20, codec='libx264', bitrate=2)\n",
    "ani = animation.FuncAnimation(fig, update, N, fargs=(data, line), interval=10000/N, blit=False)\n",
    "ani.save(filename='mongif_3d.gif', writer=my_writer)"
   ]
  },
  {
   "cell_type": "markdown",
   "id": "3dadc52c",
   "metadata": {},
   "source": [
    "<img src='https://user-images.githubusercontent.com/92891191/174487525-8d6c95d9-b4c7-4b9c-9b63-ebfdeae37deb.gif'>"
   ]
  },
  {
   "cell_type": "markdown",
   "id": "618ce257",
   "metadata": {},
   "source": [
    "<br>"
   ]
  },
  {
   "cell_type": "markdown",
   "id": "72db0918",
   "metadata": {},
   "source": [
    "<div style=\"background-color:green; border : 6px solid black; border-radius : 50px; margin : 0% 10% ; padding:10px;text-align : center;\">\n",
    "    <img src='https://user-images.githubusercontent.com/92891191/174487345-194f74a7-f294-4adf-b969-41bdd58bec23.png' style=\"text-align : center;\">\n",
    "</div>"
   ]
  },
  {
   "cell_type": "markdown",
   "id": "7528f68f",
   "metadata": {},
   "source": [
    "Revenons en dimension 2, nous allons maintenant jouer avec les probabilités afin de définir la probabilité que Mario partent dans le nord, sud, ouest et est. <br>Pour ceci on va créer un programme qui prend un tableau de probabilité qui permettra à Mario de se déplacer."
   ]
  },
  {
   "cell_type": "code",
   "execution_count": null,
   "id": "45f942c4",
   "metadata": {},
   "outputs": [],
   "source": [
    "def Tirage(cordonnées, probabilités):\n",
    "    start = time.time()\n",
    "    i=0\n",
    "    tab=[]\n",
    "    \n",
    "    depart = cordonnées\n",
    "    print(\"Valeur de départ : \", depart)\n",
    "    tab.append(depart)\n",
    "    vrai=True\n",
    "    \n",
    "    while i<len(tab) and vrai == True:\n",
    "        nbr_alea = random.random()\n",
    "        \n",
    "        if nbr_alea < probabilités[0] :\n",
    "            tab.append(NORD(tab[i][0], tab[i][1]))\n",
    "            i+=1\n",
    "            \n",
    "        if nbr_alea < probabilités[0] +  probabilités[1] :\n",
    "            tab.append(EST(tab[i][0], tab[i][1]))\n",
    "            i+=1\n",
    "            \n",
    "        if nbr_alea < probabilités[0] +  probabilités[1] + probabilités[2] :\n",
    "            tab.append(SUD(tab[i][0], tab[i][1]))\n",
    "            i+=1\n",
    "            \n",
    "        if nbr_alea < probabilités[0] +  probabilités[1] + probabilités[2] + probabilités[3]:\n",
    "            tab.append(OUEST(tab[i][0], tab[i][1]))\n",
    "            i+=1\n",
    "        \n",
    "        if tab[0] == tab[i]:\n",
    "            vrai = False\n",
    "            \n",
    "    end = time.time()\n",
    "    print(\"Le temps écoulé est de : \", end - start)\n",
    "    print(\"Le nombre de déplacement est de : \", i)\n",
    "    print(\"A fini de s'éxecuter : \", depart)\n",
    "    return tab\n",
    "\n",
    "Tirage((0,0), [1/4,1/3,1/2,1/2])"
   ]
  },
  {
   "cell_type": "markdown",
   "id": "0c209919",
   "metadata": {},
   "source": [
    "Afin d'utiliser se programme, il faut lui donné des coordonnées de départ par exemple (0,0) et lui donné un tableau de probabilité comme ceci [1/2,1/4,1/2,1/8]. \n",
    "<br>Voici à quoi correspond dans l'ordre les valeurs du tableau : [Nord, Est, Sud, Ouest], on aura donc 1 chance sur 2 de partir au Nord, 1 chance sur 4 de partir à l'Est, 1 chance sur 2 de partir au Sud et enfin 1 chance sur 8 de partir à l'Ouest."
   ]
  },
  {
   "cell_type": "markdown",
   "id": "36b256aa",
   "metadata": {},
   "source": [
    "___Loi des grands nombres :___\n",
    "\n",
    "Dans notre cas la __loi des grands nombres__ nous sert a calculer la probabilité donc le nombre de fois que l'événement A (se déplacer vers Nord) se produit et diviser par le nombre de fois que tu as réalisé l'expérience est c'est égale a  $ \\frac{1}{4}$ "
   ]
  },
  {
   "cell_type": "markdown",
   "id": "51c00950",
   "metadata": {},
   "source": [
    "___Chaîne de Markov:___\n",
    "\n",
    "<img src='https://user-images.githubusercontent.com/92891191/174898001-e00ef60b-b8e8-4972-9cf0-74702a654380.png'>\n",
    "\n",
    "la chaîne de Markov est un processus sans mémoire, donc nous pouvons voir que peut importe le nombre de lancer la probabilité est toujours égale à  $ \\frac{1}{4}$\n"
   ]
  },
  {
   "cell_type": "markdown",
   "id": "3d033a6f",
   "metadata": {},
   "source": [
    "<br>"
   ]
  },
  {
   "cell_type": "markdown",
   "id": "dc6d2ff7",
   "metadata": {},
   "source": [
    "<br>"
   ]
  },
  {
   "cell_type": "markdown",
   "id": "bbefc0fe",
   "metadata": {},
   "source": [
    "<div style=\"background-color:red; border:6px solid black; border-radius:50px; padding:15px; margin-bottom:10px; text-align : center;\"> \n",
    "    <img src=\"https://user-images.githubusercontent.com/92891191/174487363-22501ab0-4d8a-4bdc-a39f-77b25cc26dcb.png\" style=\"text-align : center;\">\n",
    "</div>"
   ]
  },
  {
   "cell_type": "markdown",
   "id": "4684ec3f",
   "metadata": {},
   "source": [
    "Commençons par définir les fonctions nécessaires afin d'avoir de bonne statistique pour cela nous allons utilisée la moyenne, la médiane, les quartiles, la variance et l'écart type."
   ]
  },
  {
   "cell_type": "code",
   "execution_count": 60,
   "id": "68400a97",
   "metadata": {},
   "outputs": [],
   "source": [
    "def moyenne(tab):\n",
    "    i=0\n",
    "    resultat=0\n",
    "    while i<len(tab):\n",
    "        resultat = resultat + tab[i]\n",
    "        i+=1\n",
    "    resultat= resultat / len(tab)\n",
    "    return resultat\n",
    "\n",
    "def med(tab) :\n",
    "    res=0\n",
    "    tri=sorted(tab)\n",
    "    if len(tri)%2 == 1:\n",
    "        res = tri[(len(tri) + 1) / 2]\n",
    "        return res\n",
    "    else : \n",
    "        res = tri[(len(tri))//2] + tri[(len(tri))//2]\n",
    "        res /= 2\n",
    "        return res\n",
    "    \n",
    "def Quart(tab,ordre) : \n",
    "    tri=sorted(tab)\n",
    "    if len(tri) * ordre%4 !=0:\n",
    "        res = tri[((len(tri) + 1) * ordre // 4 ) - 1]\n",
    "    else :\n",
    "        res =(tri[(len(tri) * ordre // 4) - 1])\n",
    "    return res\n",
    "\n",
    "def Var(tab):\n",
    "    i=0\n",
    "    var=0\n",
    "    \n",
    "    while i<len(tab):\n",
    "        var+=tab[i]**2\n",
    "        i+=1\n",
    "    res=(1/len(tab) * var) - moyenne(tab)**2 \n",
    "    return res\n",
    "\n",
    "def Ecart(tab):\n",
    "    return sqrt(Var(tab))"
   ]
  },
  {
   "cell_type": "markdown",
   "id": "b307b228",
   "metadata": {},
   "source": [
    "<div style=\"background-color:green; border : 6px solid black; border-radius : 50px; margin : 0% 10% ; padding:10px; text-align : center;\">\n",
    "    <img src='https://user-images.githubusercontent.com/92891191/169717766-8e819d95-0f9a-4f71-90e2-02325fd64fbd.png' style=\"text-align : center;\">\n",
    "</div>"
   ]
  },
  {
   "cell_type": "markdown",
   "id": "84636c87",
   "metadata": {},
   "source": [
    "Commençons avec la marche aléatoire en 2D.<br>\n",
    "Nous reprogrammons notre marche aléatoire afin que celui-ci nous retourne seulement le nombre de pas qui a été fait pour revenir à sa position de départ."
   ]
  },
  {
   "cell_type": "code",
   "execution_count": 61,
   "id": "8c762630",
   "metadata": {},
   "outputs": [],
   "source": [
    "def Marche_Aleatoire_pas(x,y):\n",
    "    i=0\n",
    "    tab=[]\n",
    "    \n",
    "    depart = (x,y)\n",
    "    tab.append(depart)\n",
    "    vrai=True\n",
    "    \n",
    "    while i<len(tab) and vrai == True:\n",
    "\n",
    "        nbr_alea = randint(0,3)\n",
    "        \n",
    "        if nbr_alea == 0:\n",
    "            tab.append(NORD(tab[i][0], tab[i][1]))\n",
    "            i+=1\n",
    "            \n",
    "        if nbr_alea == 1:\n",
    "            tab.append(EST(tab[i][0], tab[i][1]))\n",
    "            i+=1\n",
    "            \n",
    "        if nbr_alea == 2:\n",
    "            tab.append(SUD(tab[i][0], tab[i][1]))\n",
    "            i+=1\n",
    "            \n",
    "        if nbr_alea == 3:\n",
    "            tab.append(OUEST(tab[i][0], tab[i][1]))\n",
    "            i+=1\n",
    "        \n",
    "        if tab[0] == tab[i]:\n",
    "            vrai = False\n",
    "            \n",
    "        if i>1000:\n",
    "            vrai = False\n",
    "            return None\n",
    "        \n",
    "    return i"
   ]
  },
  {
   "cell_type": "markdown",
   "id": "a60e94ec",
   "metadata": {},
   "source": [
    "La fonction 'calcule' met dans un tableau tout les nombres de pas effectuer sur 1000 lancers de la marche aléatoire, de plus lorsque le personnage fait plus de 1000 pas celui-ci retourne None, car cela prend beaucoup de temps pour revenir a notre position de départ. La fonction calcule, supprime donc toute les valeurs None et refait de nouveaux lancers jusqu'à obtenir 1000 lancers."
   ]
  },
  {
   "cell_type": "code",
   "execution_count": 62,
   "id": "214dbdfe",
   "metadata": {},
   "outputs": [],
   "source": [
    "def calcule():\n",
    "    tab=[]\n",
    "    \n",
    "    i=0\n",
    "    vrai=True\n",
    "    while i<1000 and vrai==True:\n",
    "        tab.append(Marche_Aleatoire_pas(0,0))\n",
    "        if tab[i]==None:\n",
    "            i-=1\n",
    "            tab.remove(None)\n",
    "        if len(tab)<i:\n",
    "            vrai==False\n",
    "        i+=1\n",
    "    return tab\n"
   ]
  },
  {
   "cell_type": "markdown",
   "id": "9674ae03",
   "metadata": {},
   "source": [
    "Nous pouvons maintenant lancer notre programme et voir ce que cela nous donne."
   ]
  },
  {
   "cell_type": "code",
   "execution_count": 63,
   "id": "084a58ba",
   "metadata": {},
   "outputs": [],
   "source": [
    "tableau_lancer = calcule()"
   ]
  },
  {
   "cell_type": "code",
   "execution_count": 64,
   "id": "41170c7c",
   "metadata": {},
   "outputs": [
    {
     "name": "stdout",
     "output_type": "stream",
     "text": [
      "Moyenne de pas           :  70.81\n",
      "Médiane de la série      :  6.0\n",
      "Premier quartile         :  2 \n",
      "Troisième quartile       :  32\n",
      "Variance de la série     :  28205.5\n",
      "L'écart type de la série :  167.9\n"
     ]
    }
   ],
   "source": [
    "print(\"Moyenne de pas           : \", moyenne(tableau_lancer))\n",
    "print(\"Médiane de la série      : \", round(med(tableau_lancer),1))\n",
    "print(\"Premier quartile         : \", Quart(tableau_lancer,1), \n",
    "    \"\\nTroisième quartile       : \", Quart(tableau_lancer,3))\n",
    "print(\"Variance de la série     : \",round(Var(tableau_lancer),1))\n",
    "print(\"L'écart type de la série : \",round(Ecart(tableau_lancer),1))"
   ]
  },
  {
   "cell_type": "code",
   "execution_count": 66,
   "id": "b2a55515",
   "metadata": {},
   "outputs": [
    {
     "data": {
      "image/png": "[encoded data removed]",
      "text/plain": [
       "<Figure size 432x288 with 1 Axes>"
      ]
     },
     "metadata": {
      "needs_background": "light"
     },
     "output_type": "display_data"
    }
   ],
   "source": [
    "plt.boxplot(tableau_lancer) ; \n",
    "plt.title(\"boite à moustaches\") ;\n",
    "ylim(-10,80)\n",
    "plt.subplots_adjust(left=0.25)\n",
    "plt.show();"
   ]
  },
  {
   "cell_type": "markdown",
   "id": "6440695c",
   "metadata": {},
   "source": [
    "<div style=\"background-color:green; border : 6px solid black; border-radius : 50px; margin : 0% 10% ; padding:10px; text-align : center;\">\n",
    "    <img src='https://user-images.githubusercontent.com/92891191/174487306-6418c162-7944-4c8a-8119-fde7f71ddb2f.png' style=\"text-align : center;\">\n",
    "</div>"
   ]
  },
  {
   "cell_type": "markdown",
   "id": "96adc1d6",
   "metadata": {},
   "source": [
    "Allons recrée maintenant des statistiques pour la marche aléatoire en dimensions 1."
   ]
  },
  {
   "cell_type": "code",
   "execution_count": 67,
   "id": "81996734",
   "metadata": {},
   "outputs": [],
   "source": [
    "def Marche_Aleatoire_pas_1D(x,y):\n",
    "    i=0\n",
    "    tab=[]\n",
    "    \n",
    "    depart = (x,y)\n",
    "    tab.append(depart)\n",
    "    vrai=True\n",
    "    \n",
    "    while i<len(tab) and vrai == True:\n",
    "\n",
    "        Choix = randint(1,2)\n",
    "\n",
    "        if Choix == 1:\n",
    "            tab.append(EST(tab[i][0], tab[i][1]))\n",
    "            i+=1\n",
    "            \n",
    "        if Choix == 2:\n",
    "            tab.append(OUEST(tab[i][0], tab[i][1]))\n",
    "            i+=1\n",
    "        \n",
    "        if tab[0] == tab[i]:\n",
    "            vrai = False\n",
    "            \n",
    "        if i>1000:\n",
    "            vrai = False\n",
    "            return None\n",
    "        \n",
    "    return i"
   ]
  },
  {
   "cell_type": "code",
   "execution_count": 68,
   "id": "27a15d9f",
   "metadata": {},
   "outputs": [],
   "source": [
    "def calcule():\n",
    "    tab=[]\n",
    "    \n",
    "    i=0\n",
    "    vrai=True\n",
    "    while i<1000 and vrai==True:\n",
    "        tab.append(Marche_Aleatoire_pas_1D(0,0))\n",
    "        if tab[i]==None:\n",
    "            i-=1\n",
    "            tab.remove(None)\n",
    "        if len(tab)<i:\n",
    "            vrai==False\n",
    "        i+=1\n",
    "    return tab\n"
   ]
  },
  {
   "cell_type": "code",
   "execution_count": 69,
   "id": "3b699e54",
   "metadata": {},
   "outputs": [],
   "source": [
    "tableau_lancer_1D = calcule()"
   ]
  },
  {
   "cell_type": "code",
   "execution_count": 70,
   "id": "48b3bdfb",
   "metadata": {},
   "outputs": [
    {
     "name": "stdout",
     "output_type": "stream",
     "text": [
      "Moyenne de pas           :  22.106\n",
      "Médiane de la série      :  2.0\n",
      "Premier quartile         :  2 \n",
      "Troisième quartile       :  8\n",
      "Variance de la série     :  6022.8\n",
      "L'écart type de la série :  77.6\n"
     ]
    }
   ],
   "source": [
    "print(\"Moyenne de pas           : \", moyenne(tableau_lancer_1D))\n",
    "print(\"Médiane de la série      : \", round(med(tableau_lancer_1D),1))\n",
    "print(\"Premier quartile         : \", Quart(tableau_lancer_1D,1), \n",
    "    \"\\nTroisième quartile       : \", Quart(tableau_lancer_1D,3))\n",
    "print(\"Variance de la série     : \",round(Var(tableau_lancer_1D),1))\n",
    "print(\"L'écart type de la série : \",round(Ecart(tableau_lancer_1D),1))"
   ]
  },
  {
   "cell_type": "code",
   "execution_count": 85,
   "id": "c47a8b2e",
   "metadata": {},
   "outputs": [
    {
     "data": {
      "image/png": "[encoded data removed]",
      "text/plain": [
       "<Figure size 432x288 with 1 Axes>"
      ]
     },
     "metadata": {
      "needs_background": "light"
     },
     "output_type": "display_data"
    }
   ],
   "source": [
    "plt.boxplot(tableau_lancer_1D) ; \n",
    "plt.title(\"boite à moustaches\") ;\n",
    "ylim(0,10)\n",
    "plt.subplots_adjust(left=0.25)\n",
    "plt.show();"
   ]
  },
  {
   "cell_type": "markdown",
   "id": "8c66d2c7",
   "metadata": {},
   "source": [
    "<center><h1>Fin de la SAE</h1></center>\n",
    "<center><h3>Merci d'avoir pris le temps de lire notre projet.</h3></center>\n",
    "<img src='https://i.pinimg.com/originals/fe/a1/ca/fea1ca750f87cfa5783606c8f2d8572c.png' style=\"text-align : center; width:250px; heigth:300px\">"
   ]
  }
 ],
 "metadata": {
  "kernelspec": {
   "display_name": "Python 3 (ipykernel)",
   "language": "python",
   "name": "python3"
  },
  "language_info": {
   "codemirror_mode": {
    "name": "ipython",
    "version": 3
   },
   "file_extension": ".py",
   "mimetype": "text/x-python",
   "name": "python",
   "nbconvert_exporter": "python",
   "pygments_lexer": "ipython3",
   "version": "3.10.1"
  }
 },
 "nbformat": 4,
 "nbformat_minor": 5
}
